{
 "cells": [
  {
   "cell_type": "raw",
   "id": "48ccaefe",
   "metadata": {},
   "source": [
    "1.\tCreate a python program to find duplicate files by content. User will input path and it will scan all directories, sub-directories to find all duplicates files.\n",
    "Delete the found duplicate file.\n",
    "[Hint: use hashlib]"
   ]
  },
  {
   "cell_type": "code",
   "execution_count": 117,
   "id": "bad65e71",
   "metadata": {},
   "outputs": [],
   "source": [
    "import os\n",
    "import hashlib"
   ]
  },
  {
   "cell_type": "code",
   "execution_count": 119,
   "id": "35415286",
   "metadata": {},
   "outputs": [
    {
     "name": "stdout",
     "output_type": "stream",
     "text": [
      "The Duplicate file removed: C:/Users/bhasingh/OneDrive - ALLEGIS GROUP/Desktop/Python_Data\\2march_Assignment2 - Copy.docx\n",
      "{'92d4c3097ac6236bcff9cad3e296175f9b7c4f6b', '717c57fb427a7350a5fa49ec7338b520dfb9aec3', '81aee750418a1d21b51bf0ca51e91360883743d6', 'fa2183d05eef875e8cc584e6fb87db9c618164b4', 'bc2d29c021b56ea360052892f596dc9fd958980a', '6c233348968dec893ebff294cc472da8393171db', 'dd9aaa6cd0b54c56988dfaf6f21dd5e2423a792d', '6905ee7569875664938f8b876048f65b6cdb602e', '7ea7b9a91eaf4a7cff199d302b587afbb89c1dd9', 'dfda8ff2cd124f184113f271b4fcd2b629da687f', '9f5de5d208664c71870a7f13051b2f6617d6c231'}\n"
     ]
    }
   ],
   "source": [
    "def hash_file(filename):\n",
    "    h = hashlib.sha1()\n",
    "    with open(filename,'rb') as file:\n",
    "        chunk = 0\n",
    "        while chunk != b'':\n",
    "            chunk = file.read(1024)\n",
    "            h.update(chunk)\n",
    "        # return the hex representation of digest\n",
    "        return h.hexdigest()\n",
    "    \n",
    "    \n",
    "hash_set = set()\n",
    "\n",
    "# assign directory\n",
    "directory = 'C:/Users/bhasingh/OneDrive - ALLEGIS GROUP/Desktop/Python_Data'\n",
    " \n",
    "# iterate over files in\n",
    "# that directory\n",
    "for root, dirs, files in os.walk(directory):\n",
    "    for filename in files:\n",
    "        filePath = os.path.join(root, filename)\n",
    "        if hash_file(filePath) in hash_set:\n",
    "                print(\"The Duplicate file removed:\", filePath)\n",
    "                os.remove(filePath)\n",
    "        else:\n",
    "                hash_set.add(hash_file(filePath))\n",
    "                \n",
    "print(hash_set)"
   ]
  },
  {
   "cell_type": "raw",
   "id": "8ea5ae46",
   "metadata": {},
   "source": [
    "2.Generate random Password with exact length = 6, with minimum 1 uppercase, 2 lowercase, 2 digits, and remaining special characters.\n",
    "Using these packages [random, strings]"
   ]
  },
  {
   "cell_type": "code",
   "execution_count": 57,
   "id": "d77338da",
   "metadata": {},
   "outputs": [
    {
     "name": "stdout",
     "output_type": "stream",
     "text": [
      "O<pk28\n"
     ]
    }
   ],
   "source": [
    "import random\n",
    "import string\n",
    "\n",
    "lc = 2\n",
    "dc = 2\n",
    "\n",
    "password = '' \n",
    "\n",
    "password += random.choice(string.ascii_uppercase)\n",
    "while lc > 0:\n",
    "    password += random.choice(string.ascii_lowercase)\n",
    "    lc = lc - 1\n",
    "while dc > 0:\n",
    "    password += str(random.randint(0,9))\n",
    "    dc = dc - 1\n",
    "password += str(random.choice(string.punctuation))\n",
    "\n",
    "str_var = list(password)\n",
    "random.shuffle(str_var)\n",
    "print(''.join(str_var))"
   ]
  },
  {
   "cell_type": "raw",
   "id": "b77f67d8",
   "metadata": {},
   "source": [
    "3.Create 2D array and update the same 2D array provided that every prime number position should be replaced by cube of the positioned number.\n",
    "\n",
    "Hint:\n",
    "\n",
    "[0, 1, 2, 3,\n",
    " 4, 5, 6, 7,\n",
    " 8, 9, 10, 11\n",
    "]"
   ]
  },
  {
   "cell_type": "code",
   "execution_count": 2,
   "id": "7d2bba42",
   "metadata": {},
   "outputs": [
    {
     "name": "stdout",
     "output_type": "stream",
     "text": [
      "Enter the number of rows: 5\n",
      "Enter the number of columns: 6\n",
      "[[    0     1     8    27     4   125]\n",
      " [    6   343     8     9    10  1331]\n",
      " [   12  2197    14    15    16  4913]\n",
      " [   18  6859    20    21    22 12167]\n",
      " [   24    25    26    27    28 24389]]\n"
     ]
    }
   ],
   "source": [
    "import numpy as np\n",
    "\n",
    "rows = int(input('Enter the number of rows: '))\n",
    "columns = int(input('Enter the number of columns: '))\n",
    "\n",
    "elements = rows*columns\n",
    "\n",
    "cube_arr = np.arange(0,elements).reshape(rows,columns)\n",
    "\n",
    "cube_list = []\n",
    "for i in range(0,rows):\n",
    "    cube_list.append(list(cube_arr[i]))\n",
    "    \n",
    "count = 0\n",
    "for i in range(0,rows):\n",
    "    for j in range(0,columns):\n",
    "        if count!=0 or count!=1:\n",
    "            if count == 2:\n",
    "                cube_list[i][j] = cube_list[i][j] ** 3\n",
    "                count += 1\n",
    "                continue\n",
    "            prime = cube_list[i][j]\n",
    "            cp = 0 \n",
    "            for n in range(2,prime):\n",
    "                if prime%n == 0 :\n",
    "                    cp += 1\n",
    "            if cp == 0:\n",
    "                cube_list[i][j] = cube_list[i][j] ** 3\n",
    "        count += 1\n",
    "                \n",
    "print(np.array(cube_list))"
   ]
  },
  {
   "cell_type": "raw",
   "id": "129f328d",
   "metadata": {},
   "source": [
    "4. Python program to get the sum of every cubed value and its previous integer. \n",
    "prev_ele + (curr_ele)"
   ]
  },
  {
   "cell_type": "code",
   "execution_count": 3,
   "id": "f89bb440",
   "metadata": {},
   "outputs": [
    {
     "name": "stdout",
     "output_type": "stream",
     "text": [
      "Enter the number of rows: 6\n",
      "Enter the number of columns: 7\n",
      "[[    0     1     8    28     4   129     6]\n",
      " [  349     8     9    10  1341    12  2209]\n",
      " [   14    15    16  4929    18  6877    20]\n",
      " [   21    22 12189    24    25    26    27]\n",
      " [   28 24417    30 29821    32    33    34]\n",
      " [   35    36 50689    38    39    40 68961]]\n"
     ]
    }
   ],
   "source": [
    "import numpy as np\n",
    "\n",
    "rows = int(input('Enter the number of rows: '))\n",
    "columns = int(input('Enter the number of columns: '))\n",
    "\n",
    "elements = rows*columns\n",
    "\n",
    "cube_arr = np.arange(0,elements).reshape(rows,columns)\n",
    "\n",
    "cube_list = []\n",
    "for i in range(0,rows):\n",
    "    cube_list.append(list(cube_arr[i]))\n",
    "    \n",
    "count = 0\n",
    "prev_ele = 0\n",
    "for i in range(0,rows):\n",
    "    for j in range(0,columns):\n",
    "        if count!=0 or count!=1:\n",
    "            if count == 2:\n",
    "                cube_list[i][j] = cube_list[i][j] ** 3\n",
    "                count += 1\n",
    "                continue\n",
    "            prime = cube_list[i][j]\n",
    "            cp = 0 \n",
    "            for n in range(2,prime):\n",
    "                if prime%n == 0 :\n",
    "                    cp += 1\n",
    "            if cp == 0:\n",
    "                cube_list[i][j] = cube_list[i][j] ** 3 + prev_ele\n",
    "        count += 1\n",
    "        prev_ele  = cube_list[i][j] \n",
    "                \n",
    "print(np.array(cube_list))"
   ]
  },
  {
   "cell_type": "raw",
   "id": "4c1d6bc2",
   "metadata": {},
   "source": [
    "5.Given two arrays, find their intersection. Examples:\n",
    "\n",
    "Input:  arr1[] = [1, 3, 4, 5, 7]\n",
    "        arr2[] = [2, 3, 5, 6]"
   ]
  },
  {
   "cell_type": "code",
   "execution_count": 6,
   "id": "d1d3375e",
   "metadata": {},
   "outputs": [
    {
     "name": "stdout",
     "output_type": "stream",
     "text": [
      "[3 5]\n"
     ]
    }
   ],
   "source": [
    "arr1 = np.array([1, 3, 4, 5, 7])\n",
    "arr2 = np.array([2, 3, 5, 6])\n",
    "\n",
    "print(np.intersect1d(arr1, arr2))"
   ]
  },
  {
   "cell_type": "raw",
   "id": "51ca7d10",
   "metadata": {},
   "source": [
    "6. Create a 7 x 7  2D array having only multiples of 7. And return the last element of the same."
   ]
  },
  {
   "cell_type": "code",
   "execution_count": 31,
   "id": "0ab5a940",
   "metadata": {},
   "outputs": [
    {
     "name": "stdout",
     "output_type": "stream",
     "text": [
      "Enter the row number: 7\n",
      "Enter the column number: 7\n",
      "[[  0   7  14  21  28  35  42]\n",
      " [ 49  56  63  70  77  84  91]\n",
      " [ 98 105 112 119 126 133 140]\n",
      " [147 154 161 168 175 182 189]\n",
      " [196 203 210 217 224 231 238]\n",
      " [245 252 259 266 273 280 287]\n",
      " [294 301 308 315 322 329 336]]\n",
      "The last element in the array:  336\n"
     ]
    }
   ],
   "source": [
    "r=int(input(\"Enter the row number: \"))\n",
    "c=int(input(\"Enter the column number: \"))\n",
    "arr_7 = np.array([[(i*c+j)*7 for j in range(c)] for i in range(r)])\n",
    "print(arr_7)\n",
    "print('The last element in the array: ', arr_7[-1][-1])"
   ]
  },
  {
   "cell_type": "raw",
   "id": "22fb86e0",
   "metadata": {},
   "source": [
    "7.\tChecker Board Patten using Numpy:\n",
    "[   1   0   1   0   1   0   1\n",
    "    0   1   0   1   0   1   0\n",
    "    1   0   1   0   1   0   1\n",
    "    0   1   0   1   0   1   0\n",
    "    1   0   1   0   1   0   1  ]"
   ]
  },
  {
   "cell_type": "code",
   "execution_count": 34,
   "id": "1f31c734",
   "metadata": {},
   "outputs": [
    {
     "name": "stdout",
     "output_type": "stream",
     "text": [
      "Enter the row number: 5\n",
      "Enter the column number: 7\n",
      "[[1 0 1 0 1 0 1]\n",
      " [0 1 0 1 0 1 0]\n",
      " [1 0 1 0 1 0 1]\n",
      " [0 1 0 1 0 1 0]\n",
      " [1 0 1 0 1 0 1]]\n"
     ]
    }
   ],
   "source": [
    "#CheckerBoard\n",
    "import numpy as np\n",
    "\n",
    "r=int(input(\"Enter the row number: \"))\n",
    "c=int(input(\"Enter the column number: \"))\n",
    "arr2 = np.ones((r,c), dtype = 'int8')\n",
    "\n",
    "for i in range(r):\n",
    "    for j in range(c):\n",
    "        if (i+j)%2 != 0:\n",
    "            arr2[i][j] = 0\n",
    "print(arr2)"
   ]
  },
  {
   "cell_type": "raw",
   "id": "cb96584b",
   "metadata": {},
   "source": [
    "8.Create a given Matrix:\n",
    "[  A,     B,     C,       D\n",
    "   E,     F,     G,       H\n",
    "   I,     a,     K,       L\n",
    "   M,     N,     o,       P\n",
    "   Q,     R,     S,       T\n",
    "   U,     0,     W,       O ]\n",
    "\n",
    "Replace all the vowels by np.nan\n",
    "A, E, I, O U  -- >  np.nan\n",
    "Return the count of the missing values\n"
   ]
  },
  {
   "cell_type": "code",
   "execution_count": 66,
   "id": "3daa9333",
   "metadata": {},
   "outputs": [
    {
     "name": "stdout",
     "output_type": "stream",
     "text": [
      "[['A' 'B' 'C' 'D']\n",
      " ['E' 'F' 'G' 'H']\n",
      " ['I' 'J' 'K' 'L']\n",
      " ['M' 'N' 'O' 'P']\n",
      " ['Q' 'R' 'S' 'T']\n",
      " ['U' 'V' 'W' 'X']]\n",
      "\n",
      " [['A' 'B' 'C' 'D']\n",
      " ['E' 'F' 'G' 'H']\n",
      " ['I' 'a' 'K' 'L']\n",
      " ['M' 'N' 'o' 'P']\n",
      " ['Q' 'R' 'S' 'T']\n",
      " ['U' '0' 'W' 'O']]\n",
      "\n",
      "\n",
      "[['n' 'B' 'C' 'D']\n",
      " ['n' 'F' 'G' 'H']\n",
      " ['n' 'n' 'K' 'L']\n",
      " ['M' 'N' 'n' 'P']\n",
      " ['Q' 'R' 'S' 'T']\n",
      " ['n' '0' 'W' 'n']]\n",
      "The number of missing values:  7\n"
     ]
    }
   ],
   "source": [
    "arr5 =np.array([chr(i) for i in range(65,89)]).reshape(6,4)\n",
    "vowel = {'a','e','i','o','u'}\n",
    "print(arr5)\n",
    "\n",
    "arr5[-1][-1] = 'O'\n",
    "arr5[2][1] = 'a'\n",
    "arr5[3][2] = 'o'\n",
    "arr5[-1][1] = '0'\n",
    "\n",
    "print('\\n',arr5)\n",
    "\n",
    "list1 = []\n",
    "for i in range(6):\n",
    "        list1.append(list(arr5[i]))\n",
    "\n",
    "c = 0\n",
    "for i in range(6):\n",
    "    for j in range(4):\n",
    "        if list1[i][j].lower() in vowel:\n",
    "            list1[i][j] = np.nan\n",
    "            c += 1\n",
    "\n",
    "arrfin = np.empty((6,4), dtype='str')\n",
    "for i in range(6):\n",
    "    arrfin[i] = np.array(list1[i])\n",
    "print('\\n')\n",
    "print(arrfin)\n",
    "\n",
    "print('The number of missing values: ',c)"
   ]
  },
  {
   "cell_type": "code",
   "execution_count": null,
   "id": "6dd78a5e",
   "metadata": {},
   "outputs": [],
   "source": []
  }
 ],
 "metadata": {
  "kernelspec": {
   "display_name": "Python 3 (ipykernel)",
   "language": "python",
   "name": "python3"
  },
  "language_info": {
   "codemirror_mode": {
    "name": "ipython",
    "version": 3
   },
   "file_extension": ".py",
   "mimetype": "text/x-python",
   "name": "python",
   "nbconvert_exporter": "python",
   "pygments_lexer": "ipython3",
   "version": "3.9.13"
  }
 },
 "nbformat": 4,
 "nbformat_minor": 5
}
